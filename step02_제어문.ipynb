{
 "cells": [
  {
   "cell_type": "markdown",
   "metadata": {},
   "source": [
    "- 출력 포맷"
   ]
  },
  {
   "cell_type": "code",
   "execution_count": null,
   "metadata": {},
   "outputs": [],
   "source": [
    "print('Hello, {0}'.format('world!'))\n",
    "print('Hello, {0}'.format(100))"
   ]
  },
  {
   "cell_type": "code",
   "execution_count": null,
   "metadata": {},
   "outputs": [],
   "source": [
    "print('Hello, {0} {2} {1}'.format('Python', 'Script', 3.6))"
   ]
  },
  {
   "cell_type": "code",
   "execution_count": null,
   "metadata": {},
   "outputs": [],
   "source": [
    "print('{0} {0} {1} {1}'.format('Python', 'Script'))\n",
    "print('Hello, {language} {version}'.format(language='Python', version=3.6))"
   ]
  },
  {
   "cell_type": "code",
   "execution_count": null,
   "metadata": {
    "scrolled": true
   },
   "outputs": [],
   "source": [
    "print('%03d' % 1)\n",
    "print('{0:03d}'.format(1))\n",
    "print('{2:03d}'.format(1,2,3))"
   ]
  },
  {
   "cell_type": "code",
   "execution_count": null,
   "metadata": {},
   "outputs": [],
   "source": [
    "s=\"123\"\n",
    "print(s.zfill(5))\n",
    "print(s.rjust(5))\n",
    "print(s.rjust(5,\"#\"))\n",
    "print('goofy'.zfill(6))"
   ]
  },
  {
   "cell_type": "markdown",
   "metadata": {},
   "source": [
    "- 입력(input)"
   ]
  },
  {
   "cell_type": "code",
   "execution_count": null,
   "metadata": {},
   "outputs": [],
   "source": [
    "inch=int(input(\"inch ?\"))\n",
    "print(inch)\n",
    "cm=inch*2.54\n",
    "\n",
    "#print(type(inch))\n",
    "print(inch,\"inch는 \", cm,\"cm입니다.\")"
   ]
  },
  {
   "cell_type": "markdown",
   "metadata": {},
   "source": [
    "- 제어문(if)\n"
   ]
  },
  {
   "cell_type": "code",
   "execution_count": null,
   "metadata": {},
   "outputs": [],
   "source": [
    "x=11\n",
    "if x> 10:\n",
    "  if x<20:\n",
    "    print(\"조건에 맞습니다\")"
   ]
  },
  {
   "cell_type": "code",
   "execution_count": null,
   "metadata": {
    "scrolled": true
   },
   "outputs": [],
   "source": [
    "x=30\n",
    "if x> 10 and x<20:\n",
    "    print(\"조건에 맞습니다\")\n",
    "else: \n",
    "    print(\"조건에 맞지 않습니다.\")"
   ]
  },
  {
   "cell_type": "code",
   "execution_count": null,
   "metadata": {},
   "outputs": [],
   "source": [
    "year=int(input(\"태어난 년도:\"))\n",
    "if (year%12)==0:\n",
    "    print(\"원숭이\")\n",
    "elif (year%12)==1:\n",
    "    print(\"닭\")\n",
    "elif (year%12)==2:\n",
    "    print(\"개\")\n",
    "elif (year%12)==3:\n",
    "    print(\"돼지\")\n",
    "elif (year%12)==4:\n",
    "    print(\"쥐\")\n",
    "elif (year%12)==5:\n",
    "    print(\"소\")\n",
    "elif (year%12)==6:\n",
    "    print(\"범\")\n",
    "elif (year%12)==7:\n",
    "    print(\"토끼\")\n",
    "elif (year%12)==8:\n",
    "    print(\"용\")  \n",
    "elif (year%12)==9:\n",
    "    print(\"뱀\") \n",
    "elif (year%12)==10:\n",
    "    print(\"말\") \n",
    "else:\n",
    "    print(\"양\")\n"
   ]
  },
  {
   "cell_type": "code",
   "execution_count": null,
   "metadata": {},
   "outputs": [],
   "source": [
    "#list사용\n",
    "year=int(input(\"태어난 년도:\"))\n",
    "l=[\"원숭이\",\"닭\",\"개\",\"돼지\",\"쥐\",\"소\",\"범\",\"토끼\",\"용\",\"뱀\",\"말\",\"양\"]\n",
    "n=year%12\n",
    "print(l[n])"
   ]
  },
  {
   "cell_type": "code",
   "execution_count": null,
   "metadata": {},
   "outputs": [],
   "source": [
    "#tupple사용\n",
    "year=int(input(\"태어난 년도:\"))\n",
    "t=(\"원숭이\",\"닭\",\"개\",\"돼지\",\"쥐\",\"소\",\"범\",\"토끼\",\"용\",\"뱀\",\"말\",\"양\")\n",
    "n=year%12\n",
    "print(t[n])"
   ]
  },
  {
   "cell_type": "code",
   "execution_count": null,
   "metadata": {},
   "outputs": [],
   "source": [
    "#dict사용\n",
    "year=int(input(\"태어난 년도:\"))\n",
    "d={'0':'원숭이','1':'닭','2':'개','3':'돼지','4':'쥐','5':'소',\n",
    "   '6':'범','7':'토끼','8':'용','9':'뱀','10':'말','11':'양'}\n",
    "n=year%12\n",
    "print(d[str(n)])"
   ]
  },
  {
   "cell_type": "code",
   "execution_count": null,
   "metadata": {},
   "outputs": [],
   "source": []
  },
  {
   "cell_type": "code",
   "execution_count": null,
   "metadata": {},
   "outputs": [],
   "source": []
  },
  {
   "cell_type": "code",
   "execution_count": null,
   "metadata": {},
   "outputs": [],
   "source": [
    "f=(1,[1,2,3],2)\n",
    "print(f)\n",
    "\n",
    "f[1][0]=10\n",
    "print(f)"
   ]
  },
  {
   "cell_type": "code",
   "execution_count": null,
   "metadata": {},
   "outputs": [],
   "source": [
    "x = 900000000\n",
    "y = 900000000\n",
    "print(x is y)\n",
    "print(id(x) == id(y))\n",
    "print(x == y)\n",
    "a=900\n",
    "z=a\n",
    "x=z\n",
    "y=z\n",
    "print(x is y)"
   ]
  },
  {
   "cell_type": "code",
   "execution_count": null,
   "metadata": {},
   "outputs": [],
   "source": [
    "print(5/3)\n",
    "print(\"{:10.2f}\".format(5/3)) #{:.2f}도 가능"
   ]
  },
  {
   "cell_type": "markdown",
   "metadata": {},
   "source": [
    "- 제어문 (for)"
   ]
  },
  {
   "cell_type": "code",
   "execution_count": null,
   "metadata": {},
   "outputs": [],
   "source": [
    "for i in list(range(10)[::-1]):\n",
    "    print(i,end=',')"
   ]
  },
  {
   "cell_type": "code",
   "execution_count": null,
   "metadata": {},
   "outputs": [],
   "source": [
    "for a in range(1,7):                # range(1,6)\n",
    "    for b in range(a):\n",
    "        print(\"*\",end=\" \")\n",
    "    print()"
   ]
  },
  {
   "cell_type": "code",
   "execution_count": null,
   "metadata": {
    "scrolled": true
   },
   "outputs": [],
   "source": [
    "for a in range(1,7)[::-1]:                # range(1,6)\n",
    "    for b in range(a):\n",
    "        print(\"*\",end=\" \")\n",
    "    print()"
   ]
  },
  {
   "cell_type": "code",
   "execution_count": null,
   "metadata": {
    "scrolled": true
   },
   "outputs": [],
   "source": [
    "for a in range(2,7)[::-1]:                \n",
    "    for b in range(1,a)[::-1]:\n",
    "        print(b,end=\" \")\n",
    "    print()"
   ]
  },
  {
   "cell_type": "code",
   "execution_count": null,
   "metadata": {},
   "outputs": [],
   "source": [
    "for a in  list(range(10)):\n",
    "    for b in range(20-a):\n",
    "        print(\" \",end=\"\")\n",
    "    for b in range(a*2-1):\n",
    "        print(\"*\", end=\"\")\n",
    "    print()    "
   ]
  },
  {
   "cell_type": "code",
   "execution_count": null,
   "metadata": {},
   "outputs": [],
   "source": [
    "for i in range(10):\n",
    "    print(str(\"*\"*i).rjust(20))"
   ]
  },
  {
   "cell_type": "code",
   "execution_count": null,
   "metadata": {
    "scrolled": true
   },
   "outputs": [],
   "source": [
    "for i in range(20)[1::2]:\n",
    "    print(str(\"*\"*i).center(20))"
   ]
  },
  {
   "cell_type": "code",
   "execution_count": null,
   "metadata": {},
   "outputs": [],
   "source": [
    "for i in range(1,10,2):\n",
    "    print (i, end=\" \")"
   ]
  },
  {
   "cell_type": "code",
   "execution_count": null,
   "metadata": {},
   "outputs": [],
   "source": [
    "for i in range(1,20,2):\n",
    "    print (\"{:^20}\".format(\"*\"*i))"
   ]
  },
  {
   "cell_type": "code",
   "execution_count": null,
   "metadata": {},
   "outputs": [],
   "source": [
    "#구구단\n",
    "for i in range(2, 10):\n",
    "    for j in range(1, 10):\n",
    "        print(\"{0} x {1} = {2:2d}\".format(i, j, i*j))\n",
    "    print()"
   ]
  },
  {
   "cell_type": "markdown",
   "metadata": {},
   "source": [
    "- 메일머지"
   ]
  },
  {
   "cell_type": "code",
   "execution_count": null,
   "metadata": {
    "scrolled": false
   },
   "outputs": [],
   "source": [
    "letter = '''\n",
    "안녕하세요 %s님,\n",
    "오늘 밤 파티에 참석해 주실 수 있나요?\n",
    "그럼 이만~\n",
    "둘리 드림'''\n",
    "names = ['Kim', 'Lee', 'Park']\n",
    "times= ['10시','11시','12시']\n",
    "for name in names:\n",
    "    print(letter % name)\n",
    "    print('-' * 40)\n",
    "    print()"
   ]
  },
  {
   "cell_type": "code",
   "execution_count": null,
   "metadata": {},
   "outputs": [],
   "source": [
    "letter = '''\n",
    "안녕하세요 %s님,\n",
    "오늘 밤 파티에 참석해 주실 수 있나요?\n",
    "시간은 %s입니다.\n",
    "그럼 이만~\n",
    "둘리 드림'''\n",
    "names = ['Kim', 'Lee', 'Park']\n",
    "times= ['10시','11시','12시']\n",
    "print(names.count)\n",
    "for i in range(3):\n",
    "    print(letter % (names[i],times[i]))\n",
    "    print('-' * 40)\n",
    "    print()"
   ]
  }
 ],
 "metadata": {
  "kernelspec": {
   "display_name": "Python 3",
   "language": "python",
   "name": "python3"
  },
  "language_info": {
   "codemirror_mode": {
    "name": "ipython",
    "version": 3
   },
   "file_extension": ".py",
   "mimetype": "text/x-python",
   "name": "python",
   "nbconvert_exporter": "python",
   "pygments_lexer": "ipython3",
   "version": "3.7.3"
  }
 },
 "nbformat": 4,
 "nbformat_minor": 2
}
